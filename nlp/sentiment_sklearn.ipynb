{
 "cells": [
  {
   "cell_type": "markdown",
   "metadata": {
    "collapsed": true,
    "pycharm": {
     "name": "#%% md\n"
    }
   },
   "source": [
    "### Sentiment Analysis\n",
    "\n",
    "The process of computationally identifying and categorizing opinions in order to determine whether the writer's attitude towards a particular topic, product, etc. is positive, negative, or neutral.\n",
    "\n",
    "Very useful for companies in their decision making about a product.\n",
    "\n",
    "Social Media are good sources for data to perform SA on."
   ]
  },
  {
   "cell_type": "markdown",
   "source": [
    "### Data\n",
    "We use publicly available data as form of tweets about six US airlines."
   ],
   "metadata": {
    "collapsed": false
   }
  },
  {
   "cell_type": "code",
   "execution_count": 1,
   "outputs": [],
   "source": [
    "import numpy as np\n",
    "import pandas as pd\n",
    "import matplotlib.pyplot as plt\n",
    "import nltk\n",
    "import re\n",
    "\n",
    "%matplotlib inline"
   ],
   "metadata": {
    "collapsed": false,
    "pycharm": {
     "name": "#%%\n",
     "is_executing": false
    }
   }
  },
  {
   "cell_type": "code",
   "execution_count": 2,
   "outputs": [],
   "source": [
    "tweets = pd.read_csv('~/PycharmProjects/macai/nlp/data/Tweets.csv')"
   ],
   "metadata": {
    "collapsed": false,
    "pycharm": {
     "name": "#%%\n",
     "is_executing": false
    }
   }
  },
  {
   "cell_type": "code",
   "execution_count": 3,
   "outputs": [
    {
     "data": {
      "text/plain": "             tweet_id airline_sentiment  airline_sentiment_confidence  \\\n0  570306133677760513           neutral                        1.0000   \n1  570301130888122368          positive                        0.3486   \n2  570301083672813571           neutral                        0.6837   \n3  570301031407624196          negative                        1.0000   \n4  570300817074462722          negative                        1.0000   \n\n  negativereason  negativereason_confidence         airline  \\\n0            NaN                        NaN  Virgin America   \n1            NaN                     0.0000  Virgin America   \n2            NaN                        NaN  Virgin America   \n3     Bad Flight                     0.7033  Virgin America   \n4     Can't Tell                     1.0000  Virgin America   \n\n  airline_sentiment_gold        name negativereason_gold  retweet_count  \\\n0                    NaN     cairdin                 NaN              0   \n1                    NaN    jnardino                 NaN              0   \n2                    NaN  yvonnalynn                 NaN              0   \n3                    NaN    jnardino                 NaN              0   \n4                    NaN    jnardino                 NaN              0   \n\n                                                text tweet_coord  \\\n0                @VirginAmerica What @dhepburn said.         NaN   \n1  @VirginAmerica plus you've added commercials t...         NaN   \n2  @VirginAmerica I didn't today... Must mean I n...         NaN   \n3  @VirginAmerica it's really aggressive to blast...         NaN   \n4  @VirginAmerica and it's a really big bad thing...         NaN   \n\n               tweet_created tweet_location               user_timezone  \n0  2015-02-24 11:35:52 -0800            NaN  Eastern Time (US & Canada)  \n1  2015-02-24 11:15:59 -0800            NaN  Pacific Time (US & Canada)  \n2  2015-02-24 11:15:48 -0800      Lets Play  Central Time (US & Canada)  \n3  2015-02-24 11:15:36 -0800            NaN  Pacific Time (US & Canada)  \n4  2015-02-24 11:14:45 -0800            NaN  Pacific Time (US & Canada)  ",
      "text/html": "<div>\n<style scoped>\n    .dataframe tbody tr th:only-of-type {\n        vertical-align: middle;\n    }\n\n    .dataframe tbody tr th {\n        vertical-align: top;\n    }\n\n    .dataframe thead th {\n        text-align: right;\n    }\n</style>\n<table border=\"1\" class=\"dataframe\">\n  <thead>\n    <tr style=\"text-align: right;\">\n      <th></th>\n      <th>tweet_id</th>\n      <th>airline_sentiment</th>\n      <th>airline_sentiment_confidence</th>\n      <th>negativereason</th>\n      <th>negativereason_confidence</th>\n      <th>airline</th>\n      <th>airline_sentiment_gold</th>\n      <th>name</th>\n      <th>negativereason_gold</th>\n      <th>retweet_count</th>\n      <th>text</th>\n      <th>tweet_coord</th>\n      <th>tweet_created</th>\n      <th>tweet_location</th>\n      <th>user_timezone</th>\n    </tr>\n  </thead>\n  <tbody>\n    <tr>\n      <td>0</td>\n      <td>570306133677760513</td>\n      <td>neutral</td>\n      <td>1.0000</td>\n      <td>NaN</td>\n      <td>NaN</td>\n      <td>Virgin America</td>\n      <td>NaN</td>\n      <td>cairdin</td>\n      <td>NaN</td>\n      <td>0</td>\n      <td>@VirginAmerica What @dhepburn said.</td>\n      <td>NaN</td>\n      <td>2015-02-24 11:35:52 -0800</td>\n      <td>NaN</td>\n      <td>Eastern Time (US &amp; Canada)</td>\n    </tr>\n    <tr>\n      <td>1</td>\n      <td>570301130888122368</td>\n      <td>positive</td>\n      <td>0.3486</td>\n      <td>NaN</td>\n      <td>0.0000</td>\n      <td>Virgin America</td>\n      <td>NaN</td>\n      <td>jnardino</td>\n      <td>NaN</td>\n      <td>0</td>\n      <td>@VirginAmerica plus you've added commercials t...</td>\n      <td>NaN</td>\n      <td>2015-02-24 11:15:59 -0800</td>\n      <td>NaN</td>\n      <td>Pacific Time (US &amp; Canada)</td>\n    </tr>\n    <tr>\n      <td>2</td>\n      <td>570301083672813571</td>\n      <td>neutral</td>\n      <td>0.6837</td>\n      <td>NaN</td>\n      <td>NaN</td>\n      <td>Virgin America</td>\n      <td>NaN</td>\n      <td>yvonnalynn</td>\n      <td>NaN</td>\n      <td>0</td>\n      <td>@VirginAmerica I didn't today... Must mean I n...</td>\n      <td>NaN</td>\n      <td>2015-02-24 11:15:48 -0800</td>\n      <td>Lets Play</td>\n      <td>Central Time (US &amp; Canada)</td>\n    </tr>\n    <tr>\n      <td>3</td>\n      <td>570301031407624196</td>\n      <td>negative</td>\n      <td>1.0000</td>\n      <td>Bad Flight</td>\n      <td>0.7033</td>\n      <td>Virgin America</td>\n      <td>NaN</td>\n      <td>jnardino</td>\n      <td>NaN</td>\n      <td>0</td>\n      <td>@VirginAmerica it's really aggressive to blast...</td>\n      <td>NaN</td>\n      <td>2015-02-24 11:15:36 -0800</td>\n      <td>NaN</td>\n      <td>Pacific Time (US &amp; Canada)</td>\n    </tr>\n    <tr>\n      <td>4</td>\n      <td>570300817074462722</td>\n      <td>negative</td>\n      <td>1.0000</td>\n      <td>Can't Tell</td>\n      <td>1.0000</td>\n      <td>Virgin America</td>\n      <td>NaN</td>\n      <td>jnardino</td>\n      <td>NaN</td>\n      <td>0</td>\n      <td>@VirginAmerica and it's a really big bad thing...</td>\n      <td>NaN</td>\n      <td>2015-02-24 11:14:45 -0800</td>\n      <td>NaN</td>\n      <td>Pacific Time (US &amp; Canada)</td>\n    </tr>\n  </tbody>\n</table>\n</div>"
     },
     "metadata": {},
     "output_type": "execute_result",
     "execution_count": 3
    }
   ],
   "source": [
    "tweets.head()"
   ],
   "metadata": {
    "collapsed": false,
    "pycharm": {
     "name": "#%%\n",
     "is_executing": false
    }
   }
  },
  {
   "cell_type": "markdown",
   "source": [
    "### Exploratory Data Analysis\n",
    "\n",
    "Now is the time to do some EDA to get to know our data better"
   ],
   "metadata": {
    "collapsed": false
   }
  },
  {
   "cell_type": "markdown",
   "source": [
    "First let's see the distribution of airlines"
   ],
   "metadata": {
    "collapsed": false,
    "pycharm": {
     "name": "#%% md\n"
    }
   }
  },
  {
   "cell_type": "code",
   "execution_count": 4,
   "outputs": [
    {
     "name": "stdout",
     "text": [
      "United            3822\nUS Airways        2913\nAmerican          2759\nSouthwest         2420\nDelta             2222\nVirgin America     504\nName: airline, dtype: int64\n"
     ],
     "output_type": "stream"
    },
    {
     "data": {
      "text/plain": "<matplotlib.axes._subplots.AxesSubplot at 0x7f61c0862d68>"
     },
     "metadata": {},
     "output_type": "execute_result",
     "execution_count": 4
    },
    {
     "data": {
      "text/plain": "<Figure size 432x288 with 1 Axes>",
      "image/png": "[encoded data removed]"
     },
     "metadata": {},
     "output_type": "display_data"
    }
   ],
   "source": [
    "print(tweets['airline'].value_counts())\n",
    "tweets['airline'].value_counts().plot(kind='pie', autopct='%1.0f%%')"
   ],
   "metadata": {
    "collapsed": false,
    "pycharm": {
     "name": "#%%\n",
     "is_executing": false
    }
   }
  },
  {
   "cell_type": "markdown",
   "source": [
    "Time to look at the distribution of sentiments"
   ],
   "metadata": {
    "collapsed": false,
    "pycharm": {
     "name": "#%% md\n"
    }
   }
  },
  {
   "cell_type": "code",
   "execution_count": 5,
   "outputs": [
    {
     "name": "stdout",
     "text": [
      "negative    9178\nneutral     3099\npositive    2363\nName: airline_sentiment, dtype: int64\n"
     ],
     "output_type": "stream"
    },
    {
     "data": {
      "text/plain": "<matplotlib.axes._subplots.AxesSubplot at 0x7f61bf728390>"
     },
     "metadata": {},
     "output_type": "execute_result",
     "execution_count": 5
    },
    {
     "data": {
      "text/plain": "<Figure size 432x288 with 1 Axes>",
      "image/png": "[encoded data removed]"
     },
     "metadata": {},
     "output_type": "display_data"
    }
   ],
   "source": [
    "print(tweets['airline_sentiment'].value_counts())\n",
    "tweets['airline_sentiment'].value_counts().plot(kind='pie', autopct='%1.0f%%', colors=[\"red\", \"yellow\", \"green\"])"
   ],
   "metadata": {
    "collapsed": false,
    "pycharm": {
     "name": "#%%\n",
     "is_executing": false
    }
   }
  },
  {
   "cell_type": "markdown",
   "source": [
    "Not let's combine the distribution of airlines and the sentiments"
   ],
   "metadata": {
    "collapsed": false,
    "pycharm": {
     "name": "#%% md\n"
    }
   }
  },
  {
   "cell_type": "code",
   "execution_count": 6,
   "outputs": [
    {
     "name": "stdout",
     "text": [
      "airline_sentiment  negative  neutral  positive\nairline                                       \nAmerican               1960      463       336\nDelta                   955      723       544\nSouthwest              1186      664       570\nUS Airways             2263      381       269\nUnited                 2633      697       492\nVirgin America          181      171       152\n"
     ],
     "output_type": "stream"
    },
    {
     "data": {
      "text/plain": "<matplotlib.axes._subplots.AxesSubplot at 0x7f61bf6f50f0>"
     },
     "metadata": {},
     "output_type": "execute_result",
     "execution_count": 6
    },
    {
     "data": {
      "text/plain": "<Figure size 432x288 with 1 Axes>",
      "image/png": "[encoded data removed]"
     },
     "metadata": {
      "needs_background": "light"
     },
     "output_type": "display_data"
    }
   ],
   "source": [
    "airline_sentiment_count = tweets.groupby(['airline', 'airline_sentiment'])['airline_sentiment'].count().unstack()\n",
    "print(airline_sentiment_count)\n",
    "airline_sentiment_count.plot(kind='bar')"
   ],
   "metadata": {
    "collapsed": false,
    "pycharm": {
     "name": "#%%\n",
     "is_executing": false
    }
   }
  },
  {
   "cell_type": "markdown",
   "source": [
    "#### How much confident are the sentiments?\n",
    "Let's visualize the average confidence level for each sentiment"
   ],
   "metadata": {
    "collapsed": false,
    "pycharm": {
     "name": "#%% md\n"
    }
   }
  },
  {
   "cell_type": "code",
   "execution_count": 7,
   "outputs": [
    {
     "data": {
      "text/plain": "<matplotlib.axes._subplots.AxesSubplot at 0x7f61bf382908>"
     },
     "metadata": {},
     "output_type": "execute_result",
     "execution_count": 7
    },
    {
     "data": {
      "text/plain": "<Figure size 432x288 with 1 Axes>",
      "image/png": "[encoded data removed]"
     },
     "metadata": {
      "needs_background": "light"
     },
     "output_type": "display_data"
    }
   ],
   "source": [
    "import seaborn as sns\n",
    "sns.barplot(x='airline_sentiment', y='airline_sentiment_confidence', data=tweets)"
   ],
   "metadata": {
    "collapsed": false,
    "pycharm": {
     "name": "#%%\n",
     "is_executing": false
    }
   }
  },
  {
   "cell_type": "markdown",
   "source": [
    "Not bad, at least for negative sentiment. We definitely can perform\n",
    "a Sentiment Analysis task on this data."
   ],
   "metadata": {
    "collapsed": false,
    "pycharm": {
     "name": "#%% md\n"
    }
   }
  },
  {
   "cell_type": "markdown",
   "source": [
    "### Data Cleaning\n",
    "We don't tweet in formal language. So we need to clean our data\n",
    "to make sure that the training phase will work properly.\n"
   ],
   "metadata": {
    "collapsed": false,
    "pycharm": {
     "name": "#%% md\n"
    }
   }
  },
  {
   "cell_type": "code",
   "execution_count": 8,
   "outputs": [
    {
     "name": "stdout",
     "text": [
      "['virginamerica dhepburn said', 'virginamerica plus added commercial experience tacky', 'virginamerica today must mean need take another trip', 'virginamerica really aggressive blast obnoxious entertainment guest face amp little recourse', 'virginamerica really big bad thing', 'virginamerica seriously would pay flight seat playing really bad thing flying va', 'virginamerica yes nearly every time fly vx ear worm go away', 'virginamerica really missed prime opportunity men without hat parody http co mwpggrezp', 'virginamerica well', 'virginamerica amazing arrived hour early good']\n"
     ],
     "output_type": "stream"
    }
   ],
   "source": [
    "import string\n",
    "from nltk.corpus import stopwords\n",
    "from nltk.tokenize import word_tokenize\n",
    "from nltk.stem import WordNetLemmatizer \n",
    "  \n",
    "lemmatizer = WordNetLemmatizer() \n",
    "stop_words = set(stopwords.words('english')) \n",
    "\n",
    "# Tweet text\n",
    "features = tweets['text'].values\n",
    "\n",
    "# Tweet sentiment\n",
    "labels = tweets['airline_sentiment'].values\n",
    "\n",
    "cleaned_features = []\n",
    "\n",
    "for tweet in features:\n",
    "    # Remove all the special characters\n",
    "    cleaned_tweet = re.sub(r'\\W', ' ', tweet)\n",
    "    \n",
    "    # Lower case matters!\n",
    "    cleaned_tweet = cleaned_tweet.lower()\n",
    "    \n",
    "    # Then remove numbers\n",
    "    cleaned_tweet = re.sub(r'\\d+', '', cleaned_tweet)\n",
    "    \n",
    "    # One space is enough!\n",
    "    cleaned_tweet = re.sub(r'\\s+', ' ', cleaned_tweet, flags=re.I)\n",
    "    \n",
    "    # But not at the beginning or end\n",
    "    cleaned_tweet = cleaned_tweet.strip()\n",
    "    \n",
    "    # Pun not intended\n",
    "    cleaned_tweet = cleaned_tweet.translate(str.maketrans('', '', string.punctuation))\n",
    "    \n",
    "    # No stop word (and lemmatize)\n",
    "    cleaned_tweet = word_tokenize(cleaned_tweet)\n",
    "    cleaned_tweet = [lemmatizer.lemmatize(w) for w in cleaned_tweet if not w in stop_words]\n",
    "    cleaned_tweet = ' '.join(cleaned_tweet)\n",
    "    \n",
    "    cleaned_features.append(cleaned_tweet)\n",
    "\n",
    "cleaned_features[:10]"
   ],
   "metadata": {
    "collapsed": false,
    "pycharm": {
     "name": "#%%\n",
     "is_executing": false
    }
   }
  },
  {
   "cell_type": "markdown",
   "source": [
    "### Enough of cleaning, let's convert words to numbers\n",
    "\n",
    "We use TF-IDF approach to convert the tweets into numeric vectors"
   ],
   "metadata": {
    "collapsed": false,
    "pycharm": {
     "name": "#%% md\n"
    }
   }
  },
  {
   "cell_type": "code",
   "execution_count": 9,
   "outputs": [],
   "source": [
    "from sklearn.feature_extraction.text import TfidfVectorizer\n",
    "\n",
    "# What are max_features, min_df, and max_df?\n",
    "# Only consider the top max_features ordered by term frequency\n",
    "# Ignore terms with lower frequency than min_df\n",
    "# Ignore terms with presence in more than max_df of the documents\n",
    "vectorizer = TfidfVectorizer(max_features=2000, min_df=7, max_df=0.8)\n",
    "cleaned_features = vectorizer.fit_transform(cleaned_features).toarray()"
   ],
   "metadata": {
    "collapsed": false,
    "pycharm": {
     "name": "#%%\n",
     "is_executing": false
    }
   }
  },
  {
   "cell_type": "markdown",
   "source": [
    "### Train and Test division"
   ],
   "metadata": {
    "collapsed": false,
    "pycharm": {
     "name": "#%% md\n"
    }
   }
  },
  {
   "cell_type": "code",
   "execution_count": 10,
   "outputs": [],
   "source": [
    "from sklearn.model_selection import train_test_split\n",
    "\n",
    "# Set random_state so that the output will be consistent\n",
    "X_train, X_test, y_train, y_test = train_test_split(cleaned_features, labels, test_size=0.2, random_state=0)"
   ],
   "metadata": {
    "collapsed": false,
    "pycharm": {
     "name": "#%%\n",
     "is_executing": false
    }
   }
  },
  {
   "cell_type": "markdown",
   "source": [
    "### Train the model\n",
    "Note that we can use the `Pipeline` method of `sklearn` to combine\n",
    "the previous steps into one step. But for the sake of instruction,\n",
    "we don't do that here."
   ],
   "metadata": {
    "collapsed": false,
    "pycharm": {
     "name": "#%% md\n"
    }
   }
  },
  {
   "cell_type": "markdown",
   "source": [
    "#### MultinomialNB to begin with"
   ],
   "metadata": {
    "collapsed": false,
    "pycharm": {
     "name": "#%% md\n"
    }
   }
  },
  {
   "cell_type": "code",
   "execution_count": 11,
   "outputs": [],
   "source": [
    "from sklearn.naive_bayes import MultinomialNB\n",
    "\n",
    "clf1 = MultinomialNB().fit(X_train, y_train)\n",
    "predictions1 = clf1.predict(X_test)"
   ],
   "metadata": {
    "collapsed": false,
    "pycharm": {
     "name": "#%%\n",
     "is_executing": false
    }
   }
  },
  {
   "cell_type": "markdown",
   "source": [
    "#### Then LogisticRegression"
   ],
   "metadata": {
    "collapsed": false,
    "pycharm": {
     "name": "#%% md\n"
    }
   }
  },
  {
   "cell_type": "code",
   "execution_count": 12,
   "outputs": [
    {
     "name": "stderr",
     "text": [
      "/home/szamani/.local/lib/python3.6/site-packages/sklearn/linear_model/logistic.py:432: FutureWarning: Default solver will be changed to 'lbfgs' in 0.22. Specify a solver to silence this warning.\n  FutureWarning)\n/home/szamani/.local/lib/python3.6/site-packages/sklearn/linear_model/logistic.py:469: FutureWarning: Default multi_class will be changed to 'auto' in 0.22. Specify the multi_class option to silence this warning.\n  \"this warning.\", FutureWarning)\n"
     ],
     "output_type": "stream"
    }
   ],
   "source": [
    "from sklearn.linear_model import LogisticRegression\n",
    "\n",
    "clf2 = LogisticRegression(random_state=0).fit(X_train, y_train)\n",
    "predictions2 = clf2.predict(X_test)"
   ],
   "metadata": {
    "collapsed": false,
    "pycharm": {
     "name": "#%%\n",
     "is_executing": false
    }
   }
  },
  {
   "cell_type": "markdown",
   "source": [
    "#### LinearSVC then"
   ],
   "metadata": {
    "collapsed": false,
    "pycharm": {
     "name": "#%% md\n"
    }
   }
  },
  {
   "cell_type": "code",
   "execution_count": 13,
   "outputs": [],
   "source": [
    "from sklearn.svm import LinearSVC\n",
    "\n",
    "clf3 = LinearSVC().fit(X_train, y_train)\n",
    "predictions3 = clf3.predict(X_test)"
   ],
   "metadata": {
    "collapsed": false,
    "pycharm": {
     "name": "#%%\n",
     "is_executing": false
    }
   }
  },
  {
   "cell_type": "markdown",
   "source": [
    "#### And finally RandomForestClassifier"
   ],
   "metadata": {
    "collapsed": false,
    "pycharm": {
     "name": "#%% md\n"
    }
   }
  },
  {
   "cell_type": "code",
   "execution_count": 14,
   "outputs": [],
   "source": [
    "from sklearn.ensemble import RandomForestClassifier\n",
    "\n",
    "clf4 = RandomForestClassifier(n_estimators=200, random_state=0).fit(X_train, y_train)\n",
    "predictions4 = clf4.predict(X_test)"
   ],
   "metadata": {
    "collapsed": false,
    "pycharm": {
     "name": "#%%\n",
     "is_executing": false
    }
   }
  },
  {
   "cell_type": "markdown",
   "source": [
    "### Results"
   ],
   "metadata": {
    "collapsed": false,
    "pycharm": {
     "name": "#%% md\n"
    }
   }
  },
  {
   "cell_type": "code",
   "execution_count": 15,
   "outputs": [
    {
     "name": "stdout",
     "text": [
      "Result for MultinomialNB: \n\n[[1816   43   11]\n [ 380  211   23]\n [ 214   38  192]]\n              precision    recall  f1-score   support\n\n    negative       0.75      0.97      0.85      1870\n     neutral       0.72      0.34      0.47       614\n    positive       0.85      0.43      0.57       444\n\n    accuracy                           0.76      2928\n   macro avg       0.78      0.58      0.63      2928\nweighted avg       0.76      0.76      0.73      2928\n\n0.7578551912568307\n\n##############################################\n\nResult for LogisticRegression: \n\n[[1761   84   25]\n [ 299  273   42]\n [ 134   51  259]]\n              precision    recall  f1-score   support\n\n    negative       0.80      0.94      0.87      1870\n     neutral       0.67      0.44      0.53       614\n    positive       0.79      0.58      0.67       444\n\n    accuracy                           0.78      2928\n   macro avg       0.76      0.66      0.69      2928\nweighted avg       0.77      0.78      0.77      2928\n\n0.7831284153005464\n\n##############################################\n\nResult for LinearSVC: \n\n[[1660  154   56]\n [ 232  328   54]\n [ 101   58  285]]\n              precision    recall  f1-score   support\n\n    negative       0.83      0.89      0.86      1870\n     neutral       0.61      0.53      0.57       614\n    positive       0.72      0.64      0.68       444\n\n    accuracy                           0.78      2928\n   macro avg       0.72      0.69      0.70      2928\nweighted avg       0.77      0.78      0.77      2928\n\n0.7762978142076503\n\n##############################################\n\nResult for RandomForestClassifier: \n\n[[1731  102   37]\n [ 317  252   45]\n [ 139   63  242]]\n",
      "              precision    recall  f1-score   support\n\n    negative       0.79      0.93      0.85      1870\n     neutral       0.60      0.41      0.49       614\n    positive       0.75      0.55      0.63       444\n\n    accuracy                           0.76      2928\n   macro avg       0.71      0.63      0.66      2928\nweighted avg       0.75      0.76      0.74      2928\n\n0.7599043715846995\n"
     ],
     "output_type": "stream"
    }
   ],
   "source": [
    "from sklearn.metrics import classification_report, confusion_matrix, accuracy_score\n",
    "\n",
    "print('Result for MultinomialNB: ')\n",
    "print()\n",
    "print(confusion_matrix(y_test, predictions1))\n",
    "print(classification_report(y_test, predictions1))\n",
    "print(accuracy_score(y_test, predictions1))\n",
    "print('\\n##############################################\\n')\n",
    "\n",
    "print('Result for LogisticRegression: ')\n",
    "print()\n",
    "print(confusion_matrix(y_test, predictions2))\n",
    "print(classification_report(y_test, predictions2))\n",
    "print(accuracy_score(y_test, predictions2))\n",
    "print('\\n##############################################\\n')\n",
    "\n",
    "print('Result for LinearSVC: ')\n",
    "print()\n",
    "print(confusion_matrix(y_test, predictions3))\n",
    "print(classification_report(y_test, predictions3))\n",
    "print(accuracy_score(y_test, predictions3))\n",
    "print('\\n##############################################\\n')\n",
    "\n",
    "print('Result for RandomForestClassifier: ')\n",
    "print()\n",
    "print(confusion_matrix(y_test, predictions4))\n",
    "print(classification_report(y_test, predictions4))\n",
    "print(accuracy_score(y_test, predictions4))\n"
   ],
   "metadata": {
    "collapsed": false,
    "pycharm": {
     "name": "#%%\n",
     "is_executing": false
    }
   }
  }
 ],
 "metadata": {
  "language_info": {
   "codemirror_mode": {
    "name": "ipython",
    "version": 2
   },
   "file_extension": ".py",
   "mimetype": "text/x-python",
   "name": "python",
   "nbconvert_exporter": "python",
   "pygments_lexer": "ipython2",
   "version": "2.7.6"
  },
  "kernelspec": {
   "name": "pycharm-b7ca10a9",
   "language": "python",
   "display_name": "PyCharm (macai)"
  },
  "pycharm": {
   "stem_cell": {
    "cell_type": "raw",
    "source": [],
    "metadata": {
     "collapsed": false
    }
   }
  }
 },
 "nbformat": 4,
 "nbformat_minor": 0
}