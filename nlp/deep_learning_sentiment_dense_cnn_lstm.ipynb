{
 "cells": [
  {
   "cell_type": "markdown",
   "metadata": {
    "collapsed": true,
    "pycharm": {
     "name": "#%% md\n"
    }
   },
   "source": [
    "### Word Embedding\n",
    "First of all let's do a quick review on Word Embedding. The problem with\n",
    "existing word encoding approaches, e.g. `TF-IDF` and `Bag of Words` is that\n",
    "they do not preserve context of each sentence. You already know that\n",
    "the context is really important and can change a word's meaning.\n",
    "\n",
    "The other problem worth mentioning is the `Curse of Dimensionality`. For a big\n",
    "corpus consisting of 1 million unique words, the simple `One-Hot-Encoding`\n",
    "approach for a 5 words sentence would produce a 1 million dimension vector\n",
    "with only 5 dimensions set to 1 and others to 0.\n",
    "\n",
    "#### Word2Vec\n",
    "`Word2Vec` is a `Word Embedding` model developed at Google. `Word Embedding`\n",
    "is a way to represent words in a numerical format where each vector not only\n",
    "preserve the context of the word but also has a low dimension.\n",
    "\n",
    "Loosely speaking, `Word2Vec` takes advantage of Neural Networks to train\n",
    "over existing text documents to vectorize each unique word in that corpus\n",
    "by taking into account the presence of surrounding words (the context) too.\n",
    "\n",
    "#### GloVe (Global Vector)\n",
    "By explicitly taking the advantage of `Co-Occurrence` matrix\n",
    "(which shows how many times two different words appear next to each other),\n",
    "the Count-Based `GloVe` model produces `Word Embedding` vectors to represent words. The main\n",
    "difference with `Word2Vec` is that there is no Neural Network and this method\n",
    "takes advantage of `Co-Occurrence` matrix and `Logistic Regression` to predict\n",
    "the surrounding words (the context)\n",
    "\n",
    "#### Enough of explanation, let's see it in action"
   ]
  },
  {
   "cell_type": "markdown",
   "metadata": {
    "pycharm": {
     "name": "#%% md\n"
    }
   },
   "source": [
    "### Data\n",
    "We use publicly available data as form of 50K reviews on IMDB website."
   ]
  },
  {
   "cell_type": "code",
   "execution_count": 1,
   "metadata": {
    "pycharm": {
     "is_executing": false,
     "name": "#%%\n"
    }
   },
   "outputs": [],
   "source": [
    "import numpy as np\n",
    "import pandas as pd\n",
    "\n",
    "pd.set_option('display.max_colwidth', -1)"
   ]
  },
  {
   "cell_type": "code",
   "execution_count": 2,
   "metadata": {
    "pycharm": {
     "is_executing": false,
     "name": "#%%\n"
    }
   },
   "outputs": [
    {
     "data": {
      "text/plain": [
       "(50000, 2)"
      ]
     },
     "execution_count": 2,
     "metadata": {},
     "output_type": "execute_result"
    }
   ],
   "source": [
    "movie_reviews = pd.read_csv('~/PycharmProjects/macai/nlp/data/IMDB.csv',\n",
    "                            # nrows=1000\n",
    "                            )\n",
    "movie_reviews.shape"
   ]
  },
  {
   "cell_type": "code",
   "execution_count": 3,
   "metadata": {
    "pycharm": {
     "is_executing": false,
     "name": "#%%\n"
    }
   },
   "outputs": [
    {
     "data": {
      "text/html": [
       "<div>\n",
       "<style scoped>\n",
       "    .dataframe tbody tr th:only-of-type {\n",
       "        vertical-align: middle;\n",
       "    }\n",
       "\n",
       "    .dataframe tbody tr th {\n",
       "        vertical-align: top;\n",
       "    }\n",
       "\n",
       "    .dataframe thead th {\n",
       "        text-align: right;\n",
       "    }\n",
       "</style>\n",
       "<table border=\"1\" class=\"dataframe\">\n",
       "  <thead>\n",
       "    <tr style=\"text-align: right;\">\n",
       "      <th></th>\n",
       "      <th>review</th>\n",
       "      <th>sentiment</th>\n",
       "    </tr>\n",
       "  </thead>\n",
       "  <tbody>\n",
       "    <tr>\n",
       "      <td>0</td>\n",
       "      <td>One of the other reviewers has mentioned that after watching just 1 Oz episode you'll be hooked. They are right, as this is exactly what happened with me.&lt;br /&gt;&lt;br /&gt;The first thing that struck me about Oz was its brutality and unflinching scenes of violence, which set in right from the word GO. Trust me, this is not a show for the faint hearted or timid. This show pulls no punches with regards to drugs, sex or violence. Its is hardcore, in the classic use of the word.&lt;br /&gt;&lt;br /&gt;It is called OZ as that is the nickname given to the Oswald Maximum Security State Penitentary. It focuses mainly on Emerald City, an experimental section of the prison where all the cells have glass fronts and face inwards, so privacy is not high on the agenda. Em City is home to many..Aryans, Muslims, gangstas, Latinos, Christians, Italians, Irish and more....so scuffles, death stares, dodgy dealings and shady agreements are never far away.&lt;br /&gt;&lt;br /&gt;I would say the main appeal of the show is due to the fact that it goes where other shows wouldn't dare. Forget pretty pictures painted for mainstream audiences, forget charm, forget romance...OZ doesn't mess around. The first episode I ever saw struck me as so nasty it was surreal, I couldn't say I was ready for it, but as I watched more, I developed a taste for Oz, and got accustomed to the high levels of graphic violence. Not just violence, but injustice (crooked guards who'll be sold out for a nickel, inmates who'll kill on order and get away with it, well mannered, middle class inmates being turned into prison bitches due to their lack of street skills or prison experience) Watching Oz, you may become comfortable with what is uncomfortable viewing....thats if you can get in touch with your darker side.</td>\n",
       "      <td>positive</td>\n",
       "    </tr>\n",
       "    <tr>\n",
       "      <td>1</td>\n",
       "      <td>A wonderful little production. &lt;br /&gt;&lt;br /&gt;The filming technique is very unassuming- very old-time-BBC fashion and gives a comforting, and sometimes discomforting, sense of realism to the entire piece. &lt;br /&gt;&lt;br /&gt;The actors are extremely well chosen- Michael Sheen not only \"has got all the polari\" but he has all the voices down pat too! You can truly see the seamless editing guided by the references to Williams' diary entries, not only is it well worth the watching but it is a terrificly written and performed piece. A masterful production about one of the great master's of comedy and his life. &lt;br /&gt;&lt;br /&gt;The realism really comes home with the little things: the fantasy of the guard which, rather than use the traditional 'dream' techniques remains solid then disappears. It plays on our knowledge and our senses, particularly with the scenes concerning Orton and Halliwell and the sets (particularly of their flat with Halliwell's murals decorating every surface) are terribly well done.</td>\n",
       "      <td>positive</td>\n",
       "    </tr>\n",
       "    <tr>\n",
       "      <td>2</td>\n",
       "      <td>I thought this was a wonderful way to spend time on a too hot summer weekend, sitting in the air conditioned theater and watching a light-hearted comedy. The plot is simplistic, but the dialogue is witty and the characters are likable (even the well bread suspected serial killer). While some may be disappointed when they realize this is not Match Point 2: Risk Addiction, I thought it was proof that Woody Allen is still fully in control of the style many of us have grown to love.&lt;br /&gt;&lt;br /&gt;This was the most I'd laughed at one of Woody's comedies in years (dare I say a decade?). While I've never been impressed with Scarlet Johanson, in this she managed to tone down her \"sexy\" image and jumped right into a average, but spirited young woman.&lt;br /&gt;&lt;br /&gt;This may not be the crown jewel of his career, but it was wittier than \"Devil Wears Prada\" and more interesting than \"Superman\" a great comedy to go see with friends.</td>\n",
       "      <td>positive</td>\n",
       "    </tr>\n",
       "    <tr>\n",
       "      <td>3</td>\n",
       "      <td>Basically there's a family where a little boy (Jake) thinks there's a zombie in his closet &amp; his parents are fighting all the time.&lt;br /&gt;&lt;br /&gt;This movie is slower than a soap opera... and suddenly, Jake decides to become Rambo and kill the zombie.&lt;br /&gt;&lt;br /&gt;OK, first of all when you're going to make a film you must Decide if its a thriller or a drama! As a drama the movie is watchable. Parents are divorcing &amp; arguing like in real life. And then we have Jake with his closet which totally ruins all the film! I expected to see a BOOGEYMAN similar movie, and instead i watched a drama with some meaningless thriller spots.&lt;br /&gt;&lt;br /&gt;3 out of 10 just for the well playing parents &amp; descent dialogs. As for the shots with Jake: just ignore them.</td>\n",
       "      <td>negative</td>\n",
       "    </tr>\n",
       "    <tr>\n",
       "      <td>4</td>\n",
       "      <td>Petter Mattei's \"Love in the Time of Money\" is a visually stunning film to watch. Mr. Mattei offers us a vivid portrait about human relations. This is a movie that seems to be telling us what money, power and success do to people in the different situations we encounter. &lt;br /&gt;&lt;br /&gt;This being a variation on the Arthur Schnitzler's play about the same theme, the director transfers the action to the present time New York where all these different characters meet and connect. Each one is connected in one way, or another to the next person, but no one seems to know the previous point of contact. Stylishly, the film has a sophisticated luxurious look. We are taken to see how these people live and the world they live in their own habitat.&lt;br /&gt;&lt;br /&gt;The only thing one gets out of all these souls in the picture is the different stages of loneliness each one inhabits. A big city is not exactly the best place in which human relations find sincere fulfillment, as one discerns is the case with most of the people we encounter.&lt;br /&gt;&lt;br /&gt;The acting is good under Mr. Mattei's direction. Steve Buscemi, Rosario Dawson, Carol Kane, Michael Imperioli, Adrian Grenier, and the rest of the talented cast, make these characters come alive.&lt;br /&gt;&lt;br /&gt;We wish Mr. Mattei good luck and await anxiously for his next work.</td>\n",
       "      <td>positive</td>\n",
       "    </tr>\n",
       "  </tbody>\n",
       "</table>\n",
       "</div>"
      ],
      "text/plain": [
       "                                                                                                                                                                                                                                                                                                                                                                                                                                                                                                                                                                                                                                                                                                                                                                                                                                                                                                                                                                                                                                                                                                                                                                                                                                                                                                                                                                                                                                                                                                                                                                                                                                                                                                                                                                                                                              review  \\\n",
       "0  One of the other reviewers has mentioned that after watching just 1 Oz episode you'll be hooked. They are right, as this is exactly what happened with me.<br /><br />The first thing that struck me about Oz was its brutality and unflinching scenes of violence, which set in right from the word GO. Trust me, this is not a show for the faint hearted or timid. This show pulls no punches with regards to drugs, sex or violence. Its is hardcore, in the classic use of the word.<br /><br />It is called OZ as that is the nickname given to the Oswald Maximum Security State Penitentary. It focuses mainly on Emerald City, an experimental section of the prison where all the cells have glass fronts and face inwards, so privacy is not high on the agenda. Em City is home to many..Aryans, Muslims, gangstas, Latinos, Christians, Italians, Irish and more....so scuffles, death stares, dodgy dealings and shady agreements are never far away.<br /><br />I would say the main appeal of the show is due to the fact that it goes where other shows wouldn't dare. Forget pretty pictures painted for mainstream audiences, forget charm, forget romance...OZ doesn't mess around. The first episode I ever saw struck me as so nasty it was surreal, I couldn't say I was ready for it, but as I watched more, I developed a taste for Oz, and got accustomed to the high levels of graphic violence. Not just violence, but injustice (crooked guards who'll be sold out for a nickel, inmates who'll kill on order and get away with it, well mannered, middle class inmates being turned into prison bitches due to their lack of street skills or prison experience) Watching Oz, you may become comfortable with what is uncomfortable viewing....thats if you can get in touch with your darker side.   \n",
       "1  A wonderful little production. <br /><br />The filming technique is very unassuming- very old-time-BBC fashion and gives a comforting, and sometimes discomforting, sense of realism to the entire piece. <br /><br />The actors are extremely well chosen- Michael Sheen not only \"has got all the polari\" but he has all the voices down pat too! You can truly see the seamless editing guided by the references to Williams' diary entries, not only is it well worth the watching but it is a terrificly written and performed piece. A masterful production about one of the great master's of comedy and his life. <br /><br />The realism really comes home with the little things: the fantasy of the guard which, rather than use the traditional 'dream' techniques remains solid then disappears. It plays on our knowledge and our senses, particularly with the scenes concerning Orton and Halliwell and the sets (particularly of their flat with Halliwell's murals decorating every surface) are terribly well done.                                                                                                                                                                                                                                                                                                                                                                                                                                                                                                                                                                                                                                                                                                                                                                                              \n",
       "2  I thought this was a wonderful way to spend time on a too hot summer weekend, sitting in the air conditioned theater and watching a light-hearted comedy. The plot is simplistic, but the dialogue is witty and the characters are likable (even the well bread suspected serial killer). While some may be disappointed when they realize this is not Match Point 2: Risk Addiction, I thought it was proof that Woody Allen is still fully in control of the style many of us have grown to love.<br /><br />This was the most I'd laughed at one of Woody's comedies in years (dare I say a decade?). While I've never been impressed with Scarlet Johanson, in this she managed to tone down her \"sexy\" image and jumped right into a average, but spirited young woman.<br /><br />This may not be the crown jewel of his career, but it was wittier than \"Devil Wears Prada\" and more interesting than \"Superman\" a great comedy to go see with friends.                                                                                                                                                                                                                                                                                                                                                                                                                                                                                                                                                                                                                                                                                                                                                                                                                                                                      \n",
       "3  Basically there's a family where a little boy (Jake) thinks there's a zombie in his closet & his parents are fighting all the time.<br /><br />This movie is slower than a soap opera... and suddenly, Jake decides to become Rambo and kill the zombie.<br /><br />OK, first of all when you're going to make a film you must Decide if its a thriller or a drama! As a drama the movie is watchable. Parents are divorcing & arguing like in real life. And then we have Jake with his closet which totally ruins all the film! I expected to see a BOOGEYMAN similar movie, and instead i watched a drama with some meaningless thriller spots.<br /><br />3 out of 10 just for the well playing parents & descent dialogs. As for the shots with Jake: just ignore them.                                                                                                                                                                                                                                                                                                                                                                                                                                                                                                                                                                                                                                                                                                                                                                                                                                                                                                                                                                                                                                                        \n",
       "4  Petter Mattei's \"Love in the Time of Money\" is a visually stunning film to watch. Mr. Mattei offers us a vivid portrait about human relations. This is a movie that seems to be telling us what money, power and success do to people in the different situations we encounter. <br /><br />This being a variation on the Arthur Schnitzler's play about the same theme, the director transfers the action to the present time New York where all these different characters meet and connect. Each one is connected in one way, or another to the next person, but no one seems to know the previous point of contact. Stylishly, the film has a sophisticated luxurious look. We are taken to see how these people live and the world they live in their own habitat.<br /><br />The only thing one gets out of all these souls in the picture is the different stages of loneliness each one inhabits. A big city is not exactly the best place in which human relations find sincere fulfillment, as one discerns is the case with most of the people we encounter.<br /><br />The acting is good under Mr. Mattei's direction. Steve Buscemi, Rosario Dawson, Carol Kane, Michael Imperioli, Adrian Grenier, and the rest of the talented cast, make these characters come alive.<br /><br />We wish Mr. Mattei good luck and await anxiously for his next work.                                                                                                                                                                                                                                                                                                                                                                                                                                                               \n",
       "\n",
       "  sentiment  \n",
       "0  positive  \n",
       "1  positive  \n",
       "2  positive  \n",
       "3  negative  \n",
       "4  positive  "
      ]
     },
     "execution_count": 3,
     "metadata": {},
     "output_type": "execute_result"
    }
   ],
   "source": [
    "movie_reviews.head()"
   ]
  },
  {
   "cell_type": "code",
   "execution_count": 4,
   "metadata": {
    "pycharm": {
     "is_executing": false,
     "name": "#%% Let's see the distribution of positive and negative sentiment\n"
    }
   },
   "outputs": [
    {
     "data": {
      "text/plain": [
       "<matplotlib.axes._subplots.AxesSubplot at 0x7f71f9f59d30>"
      ]
     },
     "execution_count": 4,
     "metadata": {},
     "output_type": "execute_result"
    }
   ],
   "source": [
    "import seaborn as sns\n",
    "sns.countplot(x='sentiment', data=movie_reviews)"
   ]
  },
  {
   "cell_type": "markdown",
   "metadata": {
    "pycharm": {
     "name": "#%% md\n"
    }
   },
   "source": [
    "Almost equal, let's make sure tho!"
   ]
  },
  {
   "cell_type": "code",
   "execution_count": 5,
   "metadata": {
    "pycharm": {
     "is_executing": false,
     "name": "#%%\n"
    }
   },
   "outputs": [
    {
     "name": "stdout",
     "output_type": "stream",
     "text": [
      "(25000, 2)\n",
      "(25000, 2)\n"
     ]
    }
   ],
   "source": [
    "print(movie_reviews[movie_reviews['sentiment']=='positive'].shape)\n",
    "print(movie_reviews[movie_reviews['sentiment']=='negative'].shape)"
   ]
  },
  {
   "cell_type": "markdown",
   "metadata": {
    "pycharm": {
     "name": "#%% md\n"
    }
   },
   "source": [
    "Cool! That's not usually the case however, most of the time there are more\n",
    "positive reviews for a movie than a negative one. Except for GoT season 8."
   ]
  },
  {
   "cell_type": "markdown",
   "metadata": {
    "pycharm": {
     "name": "#%% md\n"
    }
   },
   "source": [
    "A lot of punctuations, special characters and `HTML` tags! Not useful\n",
    "for `Sentiment Analysis`"
   ]
  },
  {
   "cell_type": "markdown",
   "metadata": {
    "pycharm": {
     "name": "#%% md\n"
    }
   },
   "source": [
    "#### Time to clear some text"
   ]
  },
  {
   "cell_type": "code",
   "execution_count": 6,
   "metadata": {
    "pycharm": {
     "is_executing": false,
     "name": "#%%\n"
    }
   },
   "outputs": [],
   "source": [
    "import re\n",
    "import string\n",
    "from nltk.corpus import stopwords\n",
    "from nltk.tokenize import word_tokenize\n",
    "from nltk.stem import WordNetLemmatizer\n",
    "\n",
    "lemmatizer = WordNetLemmatizer() \n",
    "stop_words = set(stopwords.words('english')) \n",
    "\n",
    "sentences = movie_reviews['review'].tolist()\n",
    "processed_sentences = []\n",
    "for sentence in sentences:\n",
    "    # HTML tags\n",
    "    processed_sentence = re.sub(r'<[^>]+>', '', sentence)\n",
    "\n",
    "    # No numbers\n",
    "    processed_sentence = re.sub(r'\\d+', '', processed_sentence)\n",
    "\n",
    "    # No extra white space\n",
    "    processed_sentence = re.sub(r'\\s+', ' ', processed_sentence)\n",
    "\n",
    "    # Only lower case\n",
    "    processed_sentence = processed_sentence.lower()\n",
    "\n",
    "    # No punctuation\n",
    "    processed_sentence = processed_sentence.translate(str.maketrans('', '', string.punctuation))\n",
    "\n",
    "    # No stop word\n",
    "    # Lemmatization\n",
    "    processed_sentence = word_tokenize(processed_sentence)\n",
    "    processed_sentence = [lemmatizer.lemmatize(w) for w in processed_sentence if not w in stop_words]\n",
    "    processed_sentence = ' '.join(processed_sentence)\n",
    "    processed_sentences.append(processed_sentence)"
   ]
  },
  {
   "cell_type": "markdown",
   "metadata": {
    "pycharm": {
     "name": "#%% md\n"
    }
   },
   "source": [
    "#### Before and After on random review"
   ]
  },
  {
   "cell_type": "code",
   "execution_count": 7,
   "metadata": {
    "pycharm": {
     "is_executing": false,
     "name": "#%%\n"
    }
   },
   "outputs": [
    {
     "name": "stdout",
     "output_type": "stream",
     "text": [
      "First of all, let's get a few things straight here: a) I AM an anime fan- always has been as a matter of fact (I used to watch Speed Racer all the time in Preschool). b) I DO like several B-Movies because they're hilarious. c) I like the Godzilla movies- a lot.<br /><br />Moving on, when the movie first comes on, it seems like it's going to be your usual B-movie, down to the crappy FX, but all a sudden- BOOM! the anime comes on! This is when the movie goes WWWAAAAAYYYYY downhill.<br /><br />The animation is VERY bad & cheap, even worse than what I remember from SPEED RACER, for crissakes! In fact, it's so cheap, one of the few scenes from the movie I \"vividly\" remember is when a bunch of kids run out of a school... & it's the same kids over & over again! The FX are terrible, too; the dinosaurs look worse than Godzilla. In addition, the transition to live action to animation is unorganized, the dialogue & voices(especially the English dub that I viewed) was horrid & I was begging my dad to take the tape out of the DVD/ VHS player; The only thing that kept me surviving was cracking out jokes & comments like the robots & Joel/Mike on MST3K (you pick the season). Honestly, this is the only way to barely enjoy this movie & survive it at the same time.<br /><br />Heck, I'm planning to show this to another fellow otaku pal of mine on Halloween for a B-Movie night. Because it's stupid, pretty painful to watch & unintentionally hilarious at the same time, I'm giving this movie a 3/10, an improvement from the 0.5/10 I was originally going to give it.<br /><br />(According to my grading scale: 3/10 means Pretty much both boring & bad. As fun as counting to three unless you find a way to make fun of it, then it will become as fun as counting to 15.)\n",
      "first let get thing straight anime fan always matter fact used watch speed racer time preschool b like several bmovies theyre hilarious c like godzilla movie lotmoving movie first come seems like going usual bmovie crappy fx sudden boom anime come movie go wwwaaaaayyyyy downhillthe animation bad cheap even worse remember speed racer crissakes fact cheap one scene movie vividly remember bunch kid run school kid fx terrible dinosaur look worse godzilla addition transition live action animation unorganized dialogue voicesespecially english dub viewed horrid begging dad take tape dvd vhs player thing kept surviving cracking joke comment like robot joelmike mstk pick season honestly way barely enjoy movie survive timeheck im planning show another fellow otaku pal mine halloween bmovie night stupid pretty painful watch unintentionally hilarious time im giving movie improvement originally going give itaccording grading scale mean pretty much boring bad fun counting three unless find way make fun become fun counting\n"
     ]
    }
   ],
   "source": [
    "print(sentences[23])\n",
    "print(processed_sentences[23])"
   ]
  },
  {
   "cell_type": "markdown",
   "metadata": {
    "pycharm": {
     "name": "#%% md\n"
    }
   },
   "source": [
    "#### We like numbers\n",
    "So let's encode *positive* and *negative* labels to 1 or 0 value."
   ]
  },
  {
   "cell_type": "code",
   "execution_count": 8,
   "metadata": {
    "pycharm": {
     "is_executing": false,
     "name": "#%%\n"
    }
   },
   "outputs": [],
   "source": [
    "labels = movie_reviews['sentiment']\n",
    "labels = np.array(list(map(lambda sentiment: 0 if sentiment == 'negative' else 1, labels)))"
   ]
  },
  {
   "cell_type": "markdown",
   "metadata": {
    "pycharm": {
     "name": "#%% md\n"
    }
   },
   "source": [
    "#### Time to divide\n",
    "Train Test Split"
   ]
  },
  {
   "cell_type": "code",
   "execution_count": 9,
   "metadata": {
    "pycharm": {
     "is_executing": false,
     "name": "#%%\n"
    }
   },
   "outputs": [],
   "source": [
    "from sklearn.model_selection import train_test_split\n",
    "\n",
    "X_train, X_test, y_train, y_test = train_test_split(processed_sentences, labels, \n",
    "                                                    test_size=0.20)"
   ]
  },
  {
   "cell_type": "markdown",
   "metadata": {
    "pycharm": {
     "name": "#%% md\n"
    }
   },
   "source": [
    "#### Embedding\n",
    "First we create a word-to-index dictionary"
   ]
  },
  {
   "cell_type": "code",
   "execution_count": 10,
   "metadata": {
    "pycharm": {
     "is_executing": false,
     "name": "#%%\n"
    }
   },
   "outputs": [
    {
     "name": "stderr",
     "output_type": "stream",
     "text": [
      "Using TensorFlow backend.\n"
     ]
    },
    {
     "name": "stdout",
     "output_type": "stream",
     "text": [
      "62\n",
      "109\n",
      "84\n",
      "49\n"
     ]
    }
   ],
   "source": [
    "from keras.preprocessing.text import Tokenizer\n",
    "\n",
    "# Let's only care about 8000 most common words\n",
    "# From documentation:\n",
    "# Only the most common `num_words-1` words will be kept.\n",
    "# Why is that the case? Why -1 is there?\n",
    "tokenizer = Tokenizer(num_words=8001)\n",
    "tokenizer.fit_on_texts(X_train)\n",
    "\n",
    "X_train = tokenizer.texts_to_sequences(X_train)\n",
    "X_test = tokenizer.texts_to_sequences(X_test)\n",
    "print(len(X_train[2]))\n",
    "print(len(X_train[3]))\n",
    "print(len(X_train[4]))\n",
    "print(len(X_train[5]))"
   ]
  },
  {
   "cell_type": "markdown",
   "metadata": {
    "pycharm": {
     "name": "#%% md\n"
    }
   },
   "source": [
    "As you can see each list has a different length (each sentence has\n",
    "a different number of words!)\n",
    "\n",
    "Let's keep it simple as the GloVe data is!"
   ]
  },
  {
   "cell_type": "code",
   "execution_count": 11,
   "metadata": {
    "pycharm": {
     "is_executing": false,
     "name": "#%%\n"
    }
   },
   "outputs": [
    {
     "name": "stdout",
     "output_type": "stream",
     "text": [
      "176214\n"
     ]
    }
   ],
   "source": [
    "from keras.preprocessing.sequence import pad_sequences\n",
    "vocab_size = len(tokenizer.word_index) + 1\n",
    "MAX_LEN = 100\n",
    "print(vocab_size)\n",
    "\n",
    "# From doc: Pads sequences to the same length.\n",
    "# So if it's longer than maxlen it is truncated from the beginning (default)\n",
    "# And if it's shorter it is padded with 0 (default) at the beginning (default)\n",
    "X_train = pad_sequences(X_train, padding='post', maxlen=MAX_LEN)\n",
    "X_test = pad_sequences(X_test, padding='post', maxlen=MAX_LEN)"
   ]
  },
  {
   "cell_type": "markdown",
   "metadata": {
    "pycharm": {
     "name": "#%% md\n"
    }
   },
   "source": [
    "What happened now?"
   ]
  },
  {
   "cell_type": "code",
   "execution_count": 12,
   "metadata": {
    "pycharm": {
     "is_executing": false,
     "name": "#%%\n"
    }
   },
   "outputs": [
    {
     "name": "stdout",
     "output_type": "stream",
     "text": [
      "100\n",
      "100\n",
      "100\n",
      "100\n"
     ]
    }
   ],
   "source": [
    "print(len(X_train[2]))\n",
    "print(len(X_train[3]))\n",
    "print(len(X_train[4]))\n",
    "print(len(X_train[5]))"
   ]
  },
  {
   "cell_type": "markdown",
   "metadata": {
    "pycharm": {
     "name": "#%% md\n"
    }
   },
   "source": [
    "#### Word2Vec or GloVe?\n",
    "We choose `GloVe`, for no reason. Just kidding, `GloVe` is a newer\n",
    "Word Embedding model and hopefully performs better in our case."
   ]
  },
  {
   "cell_type": "code",
   "execution_count": 13,
   "metadata": {
    "pycharm": {
     "is_executing": false,
     "name": "#%%\n"
    }
   },
   "outputs": [],
   "source": [
    "from numpy import asarray\n",
    "\n",
    "embeddings_dictionary = dict()\n",
    "\n",
    "with open('/home/szamani/PycharmProjects/macai/nlp/data/glove.6B.100d.txt', 'r', encoding=\"utf-8\") as glove:\n",
    "    for line in glove:\n",
    "        records = line.split()\n",
    "        # First column of the GloVe file is the English word\n",
    "        word = records[0]\n",
    "        # The remaining columns form the word embedding vector\n",
    "        vector_dimensions = asarray(records[1:], dtype='float32')\n",
    "        embeddings_dictionary[word] = vector_dimensions"
   ]
  },
  {
   "cell_type": "markdown",
   "metadata": {
    "pycharm": {
     "name": "#%% md\n"
    }
   },
   "source": [
    "What has happened? The `GloVe` file contains word embedding for 400000 English\n",
    "words. Try `wc -l glove.6B.100d.txt` and also `less glove.6B.100d.txt` in\n",
    "your command line to see how this file looks like.\n",
    "\n",
    "Let's also take a look at the dictionary we just made."
   ]
  },
  {
   "cell_type": "code",
   "execution_count": 14,
   "metadata": {
    "pycharm": {
     "is_executing": false,
     "name": "#%%\n"
    }
   },
   "outputs": [
    {
     "data": {
      "text/plain": [
       "array([ 0.099616, -0.28129 ,  0.95298 ,  0.18283 ,  0.89592 , -1.0048  ,\n",
       "       -0.3454  ,  0.70006 , -0.7676  , -0.89849 , -0.44624 , -0.26847 ,\n",
       "       -0.25124 ,  0.59751 , -0.23666 , -0.20144 ,  0.12586 ,  0.057094,\n",
       "       -0.81942 ,  0.017919,  0.42733 ,  0.91917 ,  1.1675  ,  0.40396 ,\n",
       "        0.32427 , -0.13259 ,  0.63644 , -0.45703 ,  0.65802 ,  0.1798  ,\n",
       "       -0.33615 ,  1.2086  , -0.33041 ,  0.12208 ,  0.57628 , -0.1456  ,\n",
       "       -0.046308,  0.20315 , -0.66543 , -0.82804 , -0.33693 , -0.28441 ,\n",
       "       -0.43346 , -0.36853 ,  0.18968 ,  0.32345 ,  0.40647 , -0.51807 ,\n",
       "        0.25664 , -0.4992  ,  0.26167 ,  0.73059 , -0.3528  ,  0.29724 ,\n",
       "       -0.82812 , -2.1109  ,  0.19682 , -0.49824 ,  1.5197  ,  0.54842 ,\n",
       "        0.20633 , -0.28594 ,  0.33531 ,  0.040387,  0.80913 ,  0.19542 ,\n",
       "       -0.81415 ,  0.65657 ,  0.86507 ,  0.22457 , -0.046679, -0.26508 ,\n",
       "       -0.71459 ,  0.33638 ,  0.47793 ,  0.071327,  0.44698 , -0.25882 ,\n",
       "       -0.99346 ,  0.094345, -0.1735  ,  0.25907 ,  0.4219  ,  0.071256,\n",
       "       -0.26078 , -0.59713 , -0.031257,  0.30934 , -0.031932,  0.20507 ,\n",
       "        0.051914, -0.62774 , -0.02566 , -0.091688, -0.9701  ,  0.33042 ,\n",
       "       -0.91463 ,  0.1456  ,  0.34085 , -0.48165 ], dtype=float32)"
      ]
     },
     "execution_count": 14,
     "metadata": {},
     "output_type": "execute_result"
    }
   ],
   "source": [
    "embeddings_dictionary['canada']"
   ]
  },
  {
   "cell_type": "markdown",
   "metadata": {
    "pycharm": {
     "name": "#%% md\n"
    }
   },
   "source": [
    "Let's create the embedding matrix. Each row corresponds to the index\n",
    "of the word in the review. There are 100 columns as we assume the maximum\n",
    "length of each sentence (the whole review as we already got rid of\n",
    "punctuations) would be 100. Each column contains the `GloVe` embedding\n",
    "for the words in the review."
   ]
  },
  {
   "cell_type": "code",
   "execution_count": 15,
   "metadata": {
    "pycharm": {
     "is_executing": false,
     "name": "#%%\n"
    }
   },
   "outputs": [],
   "source": [
    "from numpy import zeros\n",
    "\n",
    "embedding_matrix = zeros((vocab_size, MAX_LEN))\n",
    "for word, index in tokenizer.word_index.items():\n",
    "    embedding_vector = embeddings_dictionary.get(word)\n",
    "    if embedding_vector is not None:\n",
    "        embedding_matrix[index] = embedding_vector"
   ]
  },
  {
   "cell_type": "markdown",
   "metadata": {
    "pycharm": {
     "name": "#%% md\n"
    }
   },
   "source": [
    "### Time for deep stuff!"
   ]
  },
  {
   "cell_type": "markdown",
   "metadata": {
    "pycharm": {
     "name": "#%% md\n"
    }
   },
   "source": [
    "#### 1. Simple Dense Neural Network"
   ]
  },
  {
   "cell_type": "code",
   "execution_count": 16,
   "metadata": {
    "pycharm": {
     "is_executing": false,
     "name": "#%%\n"
    }
   },
   "outputs": [],
   "source": [
    "from keras.models import Sequential\n",
    "from keras.layers.core import Dense\n",
    "from keras.layers import Flatten\n",
    "from keras.layers.embeddings import Embedding\n",
    "\n",
    "simple_model = Sequential()\n",
    "# trainable=False because the GloVe vector is already trained\n",
    "# This way, embedding_matrix is not updated thru the learning process\n",
    "embedding_layer = Embedding(vocab_size, MAX_LEN, weights=[embedding_matrix], input_length=MAX_LEN , trainable=False)\n",
    "simple_model.add(embedding_layer)\n",
    "\n",
    "simple_model.add(Flatten())\n",
    "simple_model.add(Dense(1, activation='sigmoid'))"
   ]
  },
  {
   "cell_type": "markdown",
   "metadata": {
    "pycharm": {
     "name": "#%% md\n"
    }
   },
   "source": [
    "Let's compile (and not run) it"
   ]
  },
  {
   "cell_type": "code",
   "execution_count": 17,
   "metadata": {
    "pycharm": {
     "is_executing": false,
     "name": "#%%\n"
    }
   },
   "outputs": [
    {
     "name": "stdout",
     "output_type": "stream",
     "text": [
      "Model: \"sequential_1\"\n",
      "_________________________________________________________________\n",
      "Layer (type)                 Output Shape              Param #   \n",
      "=================================================================\n",
      "embedding_1 (Embedding)      (None, 100, 100)          17621400  \n",
      "_________________________________________________________________\n",
      "flatten_1 (Flatten)          (None, 10000)             0         \n",
      "_________________________________________________________________\n",
      "dense_1 (Dense)              (None, 1)                 10001     \n",
      "=================================================================\n",
      "Total params: 17,631,401\n",
      "Trainable params: 10,001\n",
      "Non-trainable params: 17,621,400\n",
      "_________________________________________________________________\n"
     ]
    }
   ],
   "source": [
    "simple_model.compile(optimizer='adam', loss='binary_crossentropy', metrics=['acc'])\n",
    "simple_model.summary()"
   ]
  },
  {
   "cell_type": "markdown",
   "metadata": {
    "pycharm": {
     "name": "#%% md\n"
    }
   },
   "source": [
    "Train it!"
   ]
  },
  {
   "cell_type": "code",
   "execution_count": 18,
   "metadata": {
    "pycharm": {
     "is_executing": false,
     "name": "#%%\n"
    }
   },
   "outputs": [
    {
     "name": "stdout",
     "output_type": "stream",
     "text": [
      "Train on 32000 samples, validate on 8000 samples\n",
      "Epoch 1/6\n",
      "32000/32000 [==============================] - 1s 38us/step - loss: 0.5593 - acc: 0.7138 - val_loss: 0.5084 - val_acc: 0.7548\n",
      "Epoch 2/6\n",
      "32000/32000 [==============================] - 1s 36us/step - loss: 0.4510 - acc: 0.7943 - val_loss: 0.5041 - val_acc: 0.7585\n",
      "Epoch 3/6\n",
      "32000/32000 [==============================] - 1s 36us/step - loss: 0.4153 - acc: 0.8128 - val_loss: 0.5132 - val_acc: 0.7552\n",
      "Epoch 4/6\n",
      "32000/32000 [==============================] - 1s 35us/step - loss: 0.3918 - acc: 0.8285 - val_loss: 0.5193 - val_acc: 0.7569\n",
      "Epoch 5/6\n",
      "32000/32000 [==============================] - 1s 39us/step - loss: 0.3798 - acc: 0.8324 - val_loss: 0.5309 - val_acc: 0.7551\n",
      "Epoch 6/6\n",
      "32000/32000 [==============================] - 1s 44us/step - loss: 0.3636 - acc: 0.8418 - val_loss: 0.5374 - val_acc: 0.7546\n",
      "10000/10000 [==============================] - 0s 47us/step\n",
      "Score:  0.5365857821464538\n",
      "Accuracy:  0.7544999718666077\n"
     ]
    }
   ],
   "source": [
    "# Why do we keep history of epochs?\n",
    "history = simple_model.fit(X_train, y_train, batch_size=128, epochs=6, verbose=1, validation_split=0.2)\n",
    "score = simple_model.evaluate(X_test, y_test, verbose=1)\n",
    "\n",
    "# Loss function evaluation\n",
    "print('Score: ', score[0])\n",
    "# Accuracy\n",
    "print('Accuracy: ', score[1])"
   ]
  },
  {
   "cell_type": "markdown",
   "metadata": {
    "pycharm": {
     "name": "#%% md\n"
    }
   },
   "source": [
    "#### Time for visualization"
   ]
  },
  {
   "cell_type": "code",
   "execution_count": 19,
   "metadata": {
    "pycharm": {
     "is_executing": false,
     "name": "#%%\n"
    }
   },
   "outputs": [
    {
     "data": {
      "image/png": "[encoded data removed]",
      "text/plain": [
       "<Figure size 432x288 with 1 Axes>"
      ]
     },
     "metadata": {
      "needs_background": "light"
     },
     "output_type": "display_data"
    }
   ],
   "source": [
    "import matplotlib.pyplot as plt\n",
    "\n",
    "plt.plot(history.history['acc'])\n",
    "plt.plot(history.history['val_acc'])\n",
    "plt.title('Simple Model Accuracy')\n",
    "plt.ylabel('Accuracy')\n",
    "plt.xlabel('Epoch')\n",
    "plt.legend(['Train', 'Test'], loc='upper left')\n",
    "plt.show()"
   ]
  },
  {
   "cell_type": "markdown",
   "metadata": {
    "pycharm": {
     "name": "#%% md\n"
    }
   },
   "source": [
    "Overfitting on training data?"
   ]
  },
  {
   "cell_type": "code",
   "execution_count": 20,
   "metadata": {
    "pycharm": {
     "is_executing": false,
     "name": "#%%\n"
    }
   },
   "outputs": [
    {
     "data": {
      "image/png": "[encoded data removed]",
      "text/plain": [
       "<Figure size 432x288 with 1 Axes>"
      ]
     },
     "metadata": {
      "needs_background": "light"
     },
     "output_type": "display_data"
    }
   ],
   "source": [
    "plt.plot(history.history['loss'])\n",
    "plt.plot(history.history['val_loss'])\n",
    "plt.title('Simple Model Loss')\n",
    "plt.ylabel('Loss')\n",
    "plt.xlabel('Epoch')\n",
    "plt.legend(['Train', 'Test'], loc='upper right')\n",
    "\n",
    "plt.show()\n"
   ]
  },
  {
   "cell_type": "markdown",
   "metadata": {},
   "source": [
    "#### 2. Convolutional Neural Network\n",
    "CNNs are mostly used for 2D data classification such as images.\n",
    "\n",
    "Regular Neural Networks transform an input by putting it through\n",
    "a series of hidden layers each fully connected (dense) to all neurons\n",
    "in the layer before.\n",
    "\n",
    "CNNs layers are not fully connected, they are organized in 3 dimensions.\n",
    "\n",
    "CNNs have two components:\n",
    "\n",
    "1. The hidden layers which do the feature extraction: Recognizing\n",
    "the existence of nose, eyes, and lips in a facial recognition task.\n",
    "\n",
    "2. The classification: where fully connected layers on top of the\n",
    "extracted features (i.e. vectors and matrices) assign a probability\n",
    "for predicting the class of entire object (image)\n",
    "\n",
    "Time to code!"
   ]
  },
  {
   "cell_type": "code",
   "execution_count": 21,
   "metadata": {
    "pycharm": {
     "is_executing": false,
     "name": "#%%\n"
    }
   },
   "outputs": [],
   "source": [
    "from keras.layers import GlobalMaxPooling1D\n",
    "from keras.layers import Conv1D\n",
    "\n",
    "cnn_model = Sequential()\n",
    "embedding_layer = Embedding(vocab_size, MAX_LEN, weights=[embedding_matrix], input_length=MAX_LEN , trainable=False)\n",
    "\n",
    "cnn_model.add(embedding_layer)\n",
    "# One convolution layer, features=128, kernel_size=5\n",
    "cnn_model.add(Conv1D(128, 5, activation='relu'))\n",
    "# One pooling layer, reduce feature size\n",
    "cnn_model.add(GlobalMaxPooling1D())\n",
    "cnn_model.add(Dense(1, activation='sigmoid'))"
   ]
  },
  {
   "cell_type": "code",
   "execution_count": 22,
   "metadata": {
    "pycharm": {
     "is_executing": false,
     "name": "#%%\n"
    }
   },
   "outputs": [
    {
     "name": "stdout",
     "output_type": "stream",
     "text": [
      "Model: \"sequential_2\"\n",
      "_________________________________________________________________\n",
      "Layer (type)                 Output Shape              Param #   \n",
      "=================================================================\n",
      "embedding_2 (Embedding)      (None, 100, 100)          17621400  \n",
      "_________________________________________________________________\n",
      "conv1d_1 (Conv1D)            (None, 96, 128)           64128     \n",
      "_________________________________________________________________\n",
      "global_max_pooling1d_1 (Glob (None, 128)               0         \n",
      "_________________________________________________________________\n",
      "dense_2 (Dense)              (None, 1)                 129       \n",
      "=================================================================\n",
      "Total params: 17,685,657\n",
      "Trainable params: 64,257\n",
      "Non-trainable params: 17,621,400\n",
      "_________________________________________________________________\n"
     ]
    }
   ],
   "source": [
    "cnn_model.compile(optimizer='adam', loss='binary_crossentropy', metrics=['acc'])\n",
    "cnn_model.summary()"
   ]
  },
  {
   "cell_type": "markdown",
   "metadata": {
    "pycharm": {
     "name": "#%% md\n"
    }
   },
   "source": [
    "Train phase"
   ]
  },
  {
   "cell_type": "code",
   "execution_count": 23,
   "metadata": {
    "pycharm": {
     "is_executing": false,
     "name": "#%%\n"
    }
   },
   "outputs": [
    {
     "name": "stdout",
     "output_type": "stream",
     "text": [
      "Train on 32000 samples, validate on 8000 samples\n",
      "Epoch 1/6\n",
      "32000/32000 [==============================] - 22s 686us/step - loss: 0.4806 - acc: 0.7674 - val_loss: 0.3935 - val_acc: 0.8209\n",
      "Epoch 2/6\n",
      "32000/32000 [==============================] - 22s 702us/step - loss: 0.3453 - acc: 0.8523 - val_loss: 0.3542 - val_acc: 0.8429\n",
      "Epoch 3/6\n",
      "32000/32000 [==============================] - 22s 682us/step - loss: 0.2896 - acc: 0.8826 - val_loss: 0.3484 - val_acc: 0.8418\n",
      "Epoch 4/6\n",
      "32000/32000 [==============================] - 21s 651us/step - loss: 0.2483 - acc: 0.9045 - val_loss: 0.3442 - val_acc: 0.8451\n",
      "Epoch 5/6\n",
      "32000/32000 [==============================] - 20s 635us/step - loss: 0.2077 - acc: 0.9268 - val_loss: 0.3309 - val_acc: 0.8510\n",
      "Epoch 6/6\n",
      "32000/32000 [==============================] - 20s 636us/step - loss: 0.1727 - acc: 0.9467 - val_loss: 0.3323 - val_acc: 0.8528\n",
      "10000/10000 [==============================] - 3s 292us/step\n",
      "Score:  0.34746261954307556\n",
      "Accuracy:  0.8507999777793884\n"
     ]
    }
   ],
   "source": [
    "# Be careful, it takes time!\n",
    "history = cnn_model.fit(X_train, y_train, batch_size=128, epochs=6, verbose=1, validation_split=0.2)\n",
    "score = cnn_model.evaluate(X_test, y_test, verbose=1)\n",
    "\n",
    "# Loss function evaluation\n",
    "print('Score: ', score[0])\n",
    "# Accuracy\n",
    "print('Accuracy: ', score[1])\n"
   ]
  },
  {
   "cell_type": "markdown",
   "metadata": {},
   "source": [
    "Visualization phase"
   ]
  },
  {
   "cell_type": "code",
   "execution_count": 24,
   "metadata": {
    "pycharm": {
     "is_executing": false,
     "name": "#%%\n"
    }
   },
   "outputs": [
    {
     "data": {
      "image/png": "[encoded data removed]",
      "text/plain": [
       "<Figure size 432x288 with 1 Axes>"
      ]
     },
     "metadata": {
      "needs_background": "light"
     },
     "output_type": "display_data"
    }
   ],
   "source": [
    "plt.plot(history.history['acc'])\n",
    "plt.plot(history.history['val_acc'])\n",
    "plt.title('CNN Model Accuracy')\n",
    "plt.ylabel('Accuracy')\n",
    "plt.xlabel('Epoch')\n",
    "plt.legend(['Train', 'Test'], loc='upper left')\n",
    "plt.show()"
   ]
  },
  {
   "cell_type": "markdown",
   "metadata": {},
   "source": [
    "Overfitting on training data? Still good result however, which shows that CNN\n",
    "can also be used for text classification taks."
   ]
  },
  {
   "cell_type": "code",
   "execution_count": 25,
   "metadata": {
    "pycharm": {
     "is_executing": false,
     "name": "#%%\n"
    }
   },
   "outputs": [
    {
     "data": {
      "image/png": "[encoded data removed]",
      "text/plain": [
       "<Figure size 432x288 with 1 Axes>"
      ]
     },
     "metadata": {
      "needs_background": "light"
     },
     "output_type": "display_data"
    }
   ],
   "source": [
    "plt.plot(history.history['loss'])\n",
    "plt.plot(history.history['val_loss'])\n",
    "plt.title('CNN Model Loss')\n",
    "plt.ylabel('Loss')\n",
    "plt.xlabel('Epoch')\n",
    "plt.legend(['Train', 'Test'], loc='upper right')\n",
    "\n",
    "plt.show()"
   ]
  },
  {
   "cell_type": "markdown",
   "metadata": {},
   "source": [
    "#### 3. Recurrent Neural Network\n",
    "RNNs are proven to work well with sequence of data, such as text which is\n",
    "a sequence of words. Traditional Neural Networks learn from scratch\n",
    "every time, even though they may have already been trained. They do not\n",
    "*remember*.\n",
    "\n",
    "`Recurrent Neural Networks` address this issue. There are loops in their\n",
    "architecture that helps them *remember* previous information and decisions.\n",
    "\n",
    "Simple RNNs suffer from the `Gradient Vanishing` problem due to repeated\n",
    "matrix multiplication performed during the training phase. It prevents\n",
    "simple RNNs to really remember long term context.\n",
    "\n",
    "`Long Short Term Memory` (LSTM) networks are example of RNNs that address\n",
    "this issue by adding a *Memory Cell* to the architecture that can remember\n",
    "context from the very beginning of the input through the current input.\n",
    "\n",
    "Let's see them in action"
   ]
  },
  {
   "cell_type": "code",
   "execution_count": 26,
   "metadata": {
    "pycharm": {
     "is_executing": false,
     "name": "#%%\n"
    }
   },
   "outputs": [],
   "source": [
    "from keras.layers import LSTM\n",
    "\n",
    "lstm_model = Sequential()\n",
    "embedding_layer = Embedding(vocab_size, MAX_LEN, weights=[embedding_matrix], input_length=MAX_LEN , trainable=False)\n",
    "lstm_model.add(embedding_layer)\n",
    "# 128 Neurons, modify it and observe what happens\n",
    "lstm_model.add(LSTM(128))\n",
    "lstm_model.add(Dense(1, activation='sigmoid'))"
   ]
  },
  {
   "cell_type": "code",
   "execution_count": 27,
   "metadata": {
    "pycharm": {
     "is_executing": false,
     "name": "#%%\n"
    }
   },
   "outputs": [
    {
     "name": "stdout",
     "output_type": "stream",
     "text": [
      "Model: \"sequential_3\"\n",
      "_________________________________________________________________\n",
      "Layer (type)                 Output Shape              Param #   \n",
      "=================================================================\n",
      "embedding_3 (Embedding)      (None, 100, 100)          17621400  \n",
      "_________________________________________________________________\n",
      "lstm_1 (LSTM)                (None, 128)               117248    \n",
      "_________________________________________________________________\n",
      "dense_3 (Dense)              (None, 1)                 129       \n",
      "=================================================================\n",
      "Total params: 17,738,777\n",
      "Trainable params: 117,377\n",
      "Non-trainable params: 17,621,400\n",
      "_________________________________________________________________\n",
      "None\n"
     ]
    }
   ],
   "source": [
    "lstm_model.compile(optimizer='adam', loss='binary_crossentropy', metrics=['acc'])\n",
    "print(lstm_model.summary())"
   ]
  },
  {
   "cell_type": "markdown",
   "metadata": {
    "pycharm": {
     "name": "#%% md\n"
    }
   },
   "source": [
    "Training"
   ]
  },
  {
   "cell_type": "code",
   "execution_count": 28,
   "metadata": {
    "pycharm": {
     "is_executing": false,
     "name": "#%%\n"
    }
   },
   "outputs": [
    {
     "name": "stdout",
     "output_type": "stream",
     "text": [
      "Train on 32000 samples, validate on 8000 samples\n",
      "Epoch 1/6\n",
      "32000/32000 [==============================] - 92s 3ms/step - loss: 0.5288 - acc: 0.7429 - val_loss: 0.5958 - val_acc: 0.7462\n",
      "Epoch 2/6\n",
      "32000/32000 [==============================] - 90s 3ms/step - loss: 0.4264 - acc: 0.8074 - val_loss: 0.3942 - val_acc: 0.8281\n",
      "Epoch 3/6\n",
      "32000/32000 [==============================] - 82s 3ms/step - loss: 0.3757 - acc: 0.8360 - val_loss: 0.3535 - val_acc: 0.8497\n",
      "Epoch 4/6\n",
      "32000/32000 [==============================] - 80s 3ms/step - loss: 0.3513 - acc: 0.8499 - val_loss: 0.3279 - val_acc: 0.8595\n",
      "Epoch 5/6\n",
      "32000/32000 [==============================] - 79s 2ms/step - loss: 0.3234 - acc: 0.8627 - val_loss: 0.3309 - val_acc: 0.8593\n",
      "Epoch 6/6\n",
      "32000/32000 [==============================] - 79s 2ms/step - loss: 0.3108 - acc: 0.8703 - val_loss: 0.3285 - val_acc: 0.8550\n",
      "10000/10000 [==============================] - 13s 1ms/step\n",
      "Score:  0.34800448887348173\n",
      "Accuracy:  0.8504999876022339\n"
     ]
    }
   ],
   "source": [
    "# This one really takes time!\n",
    "history = lstm_model.fit(X_train, y_train, batch_size=128, epochs=6, verbose=1, validation_split=0.2)\n",
    "score = lstm_model.evaluate(X_test, y_test, verbose=1)\n",
    "\n",
    "# Loss function evaluation\n",
    "print('Score: ', score[0])\n",
    "# Accuracy\n",
    "print('Accuracy: ', score[1])\n"
   ]
  },
  {
   "cell_type": "markdown",
   "metadata": {},
   "source": [
    "Visualization"
   ]
  },
  {
   "cell_type": "code",
   "execution_count": 29,
   "metadata": {
    "pycharm": {
     "is_executing": false,
     "name": "#%%\n"
    }
   },
   "outputs": [
    {
     "data": {
      "image/png": "[encoded data removed]",
      "text/plain": [
       "<Figure size 432x288 with 1 Axes>"
      ]
     },
     "metadata": {
      "needs_background": "light"
     },
     "output_type": "display_data"
    }
   ],
   "source": [
    "plt.plot(history.history['acc'])\n",
    "plt.plot(history.history['val_acc'])\n",
    "plt.title('LSTM Model Accuracy')\n",
    "plt.ylabel('Accuracy')\n",
    "plt.xlabel('Epoch')\n",
    "plt.legend(['Train', 'Test'], loc='upper left')\n",
    "plt.show()"
   ]
  },
  {
   "cell_type": "markdown",
   "metadata": {},
   "source": [
    "Overfitting on training data? Not much this time, there is a very small\n",
    "difference between the training and testing accuracy."
   ]
  },
  {
   "cell_type": "code",
   "execution_count": 30,
   "metadata": {
    "pycharm": {
     "is_executing": false,
     "name": "#%%\n"
    }
   },
   "outputs": [
    {
     "data": {
      "image/png": "[encoded data removed]",
      "text/plain": [
       "<Figure size 432x288 with 1 Axes>"
      ]
     },
     "metadata": {
      "needs_background": "light"
     },
     "output_type": "display_data"
    }
   ],
   "source": [
    "plt.plot(history.history['loss'])\n",
    "plt.plot(history.history['val_loss'])\n",
    "plt.title('LSTM Model Loss')\n",
    "plt.ylabel('Loss')\n",
    "plt.xlabel('Epoch')\n",
    "plt.legend(['Train', 'Test'], loc='upper right')\n",
    "\n",
    "plt.show()"
   ]
  },
  {
   "cell_type": "markdown",
   "metadata": {
    "pycharm": {
     "name": "#%% md\n"
    }
   },
   "source": [
    "#### Conclusion\n",
    "\n",
    "Although the accuracy has not increased so much comparing to CNN,\n",
    "but the overfitting on train data disappears for LSTM.\n",
    "\n"
   ]
  }
 ],
 "metadata": {
  "kernelspec": {
   "display_name": "PyCharm (macai)",
   "language": "python",
   "name": "pycharm-b7ca10a9"
  },
  "language_info": {
   "codemirror_mode": {
    "name": "ipython",
    "version": 3
   },
   "file_extension": ".py",
   "mimetype": "text/x-python",
   "name": "python",
   "nbconvert_exporter": "python",
   "pygments_lexer": "ipython3",
   "version": "3.6.8"
  },
  "pycharm": {
   "stem_cell": {
    "cell_type": "raw",
    "metadata": {
     "collapsed": false
    },
    "source": []
   }
  }
 },
 "nbformat": 4,
 "nbformat_minor": 1
}
